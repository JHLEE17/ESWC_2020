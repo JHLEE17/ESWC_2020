{
 "cells": [
  {
   "cell_type": "code",
   "execution_count": 120,
   "metadata": {},
   "outputs": [
    {
     "name": "stdout",
     "output_type": "stream",
     "text": [
      "['camera: 0\\n', 'total: 2, up: 2, down: 0\\n', \"total_object: Counter({'Pebriz': 2})\"]\n",
      "['camera: 1\\n', 'total: 3, up: 3, down: 0\\n', \"total_object: Counter({'Pebriz': 3})\"] \n",
      "\n",
      "total_0:  2\n",
      "total_1:  3 \n",
      "\n",
      "output_total:  3 \n",
      "\n",
      "{'a': 1, 'b': 2, 'c': 3}\n",
      "{'a': 2, 'b': 1, 'd': 1} \n",
      "\n",
      "{'d': 1, 'c': 3, 'a': 2, 'b': 2}\n"
     ]
    }
   ],
   "source": [
    "import re\n",
    "data0 = open('counts/total/Total counts for Camera 0.txt', 'r')\n",
    "read0 = data0.readlines()\n",
    "data0.close()\n",
    "data1 = open('counts/total/Total counts for Camera 1.txt', 'r')\n",
    "read1 = data1.readlines()\n",
    "data1.close()\n",
    "\n",
    "print(read0)\n",
    "print(read1,'\\n')\n",
    "tud0 = re.findall(\"\\d+\", read0[1])\n",
    "tud1 = re.findall(\"\\d+\", read1[1])\n",
    "total_0 = int(tud0[0])\n",
    "total_1 = int(tud1[0])\n",
    "print('total_0: ', total_0)\n",
    "print('total_1: ', total_1, '\\n')\n",
    "\n",
    "output_total = max(total_0, total_1)\n",
    "print('output_total: ', output_total, '\\n')\n",
    "\n",
    "#cam0_dict = eval(read0[-1][22:-1])\n",
    "#cam1_dict = eval(read1[-1][22:-1])\n",
    "cam0_dict = {'a': 1, 'b': 2, 'c':3}\n",
    "cam1_dict = {'a': 2, 'b': 1, 'd':1}\n",
    "\n",
    "print(cam0_dict)\n",
    "print(cam1_dict, '\\n')\n",
    "\n",
    "def none_max(a, b):\n",
    "    if a is None:\n",
    "        return b\n",
    "    if b is None:\n",
    "        return a\n",
    "    return max(a, b)\n",
    "\n",
    "def max_dict(dict_a, dict_b):\n",
    "   all_keys = dict_a.keys() | dict_b.keys()\n",
    "   return  {k: none_max(dict_a.get(k), dict_b.get(k)) for k in all_keys}\n",
    "\n",
    "output = max_dict(cam0_dict, cam1_dict)\n",
    "print(output)\n",
    "\n",
    "html_file = open('./templates/output.html', 'w')\n",
    "html_file.write(str(output))\n",
    "html_file.close()"
   ]
  },
  {
   "cell_type": "code",
   "execution_count": 121,
   "metadata": {},
   "outputs": [
    {
     "name": "stdout",
     "output_type": "stream",
     "text": [
      "{'d': 1, 'c': 3, 'a': 2, 'b': 2}\n"
     ]
    }
   ],
   "source": [
    "print (output)"
   ]
  },
  {
   "cell_type": "code",
   "execution_count": 125,
   "metadata": {},
   "outputs": [
    {
     "name": "stdout",
     "output_type": "stream",
     "text": [
      "['d', 'c', 'a', 'b']\n",
      "[1, 3, 2, 2]\n"
     ]
    }
   ],
   "source": [
    "output_key = list(output.keys())\n",
    "output_val = list(output.values())\n",
    "print(output_key)\n",
    "print(output_val)"
   ]
  },
  {
   "cell_type": "code",
   "execution_count": 135,
   "metadata": {},
   "outputs": [
    {
     "name": "stdout",
     "output_type": "stream",
     "text": [
      "['d', 1, 'c', 3, 'a', 2, 'b', 2]\n",
      "d 1 c 3 a 2 b 2\n"
     ]
    }
   ],
   "source": [
    "output_list = []\n",
    "for i in range(len(output_key)):\n",
    "    output_list.append(output_key[i])\n",
    "    output_list.append(output_val[i])\n",
    "\n",
    "print(output_list)\n",
    "output_str = str(output_list).replace('[', '').replace(\"'\", \"\").replace(',','').replace(']','')\n",
    "\n",
    "print(str(output_str))"
   ]
  },
  {
   "cell_type": "code",
   "execution_count": null,
   "metadata": {},
   "outputs": [],
   "source": []
  }
 ],
 "metadata": {
  "kernelspec": {
   "display_name": "Python 3",
   "language": "python",
   "name": "python3"
  },
  "language_info": {
   "codemirror_mode": {
    "name": "ipython",
    "version": 3
   },
   "file_extension": ".py",
   "mimetype": "text/x-python",
   "name": "python",
   "nbconvert_exporter": "python",
   "pygments_lexer": "ipython3",
   "version": "3.6.10"
  }
 },
 "nbformat": 4,
 "nbformat_minor": 4
}
